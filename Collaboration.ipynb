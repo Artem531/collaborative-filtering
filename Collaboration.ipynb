{
 "cells": [
  {
   "cell_type": "code",
   "execution_count": 54,
   "metadata": {},
   "outputs": [],
   "source": []
  },
  {
   "cell_type": "code",
   "execution_count": 1,
   "metadata": {},
   "outputs": [],
   "source": [
    "import numpy.random as rand\n",
    "import numpy as np\n",
    "import matplotlib.pyplot as plt"
   ]
  },
  {
   "cell_type": "code",
   "execution_count": 20,
   "metadata": {},
   "outputs": [],
   "source": [
    "def computCost(X, theta, y, lamda):\n",
    "    J = 0\n",
    "    m = np.size(y, 0) * np.size(y, 1)\n",
    "    J = np.sum( np.sum( ( np.matmul( X, np.transpose(theta) ) - y )**2 ) / (2 * m)) + lamda * np.sum(theta[:, 1:-1]) / (2 * m) + lamda * np.sum(X[:, 1:-1])  / (2 * m)  \n",
    "    return J"
   ]
  },
  {
   "cell_type": "code",
   "execution_count": 23,
   "metadata": {},
   "outputs": [
    {
     "name": "stdout",
     "output_type": "stream",
     "text": [
      "visualization of Data...\n",
      "[[5. 5. 0. 5. 5.]\n",
      " [0. 0. 0. 5. 5.]\n",
      " [5. 5. 0. 0. 0.]\n",
      " [5. 0. 5. 0. 5.]\n",
      " [0. 5. 5. 5. 0.]]\n",
      "visualization of parameters x...\n",
      "[[1.         0.9471722  0.03518143 0.8228536  0.0081647 ]\n",
      " [1.         0.01813482 0.94338322 0.22468851 0.75419993]\n",
      " [1.         0.52375871 0.93941241 0.85729971 0.81122638]\n",
      " [1.         0.22281103 0.22150347 0.0303106  0.32460712]\n",
      " [1.         0.93816933 0.98529471 0.96926892 0.19866252]]\n",
      "visualization of parameters theta...\n",
      "[[1.         0.05286845 0.63263842 0.21245268 0.17399472]\n",
      " [1.         0.72388997 0.684621   0.20816625 0.33561162]\n",
      " [1.         0.25877631 0.59169162 0.7012093  0.49101603]\n",
      " [1.         0.70961011 0.3541759  0.51018244 0.2668036 ]\n",
      " [1.         0.64146497 0.73542603 0.53691547 0.22871247]]\n"
     ]
    }
   ],
   "source": [
    "print('visualization of Data...')\n",
    "a = np.array([[5.,5.,0.,5.,5.],[0.,0.,0.,5.,5.],[5.,5.,0.,0.,0.],[5.,0.,5.,0.,5.],[0.,5.,5.,5.,0.]]) # Training data\n",
    "print(a)\n",
    "\n",
    "#Gen fitures\n",
    "x = np.random.sample((4, 5))\n",
    "theta = np.random.sample((4, 5))\n",
    "x = np.vstack((np.ones((1, 5)), x))\n",
    "theta = np.vstack((np.ones((1, 5)), theta))\n",
    "\n",
    "x  = np.transpose(x)\n",
    "theta = np.transpose(theta)\n",
    "\n",
    "print('visualization of parameters x...')\n",
    "print (x)\n",
    "print('visualization of parameters theta...')\n",
    "print (theta)\n",
    "\n",
    "# useful parametrs\n",
    "lamda = 1\n",
    "alpfa = 0.01\n",
    "step = 100\n",
    "swaps = 10\n"
   ]
  },
  {
   "cell_type": "code",
   "execution_count": 24,
   "metadata": {
    "scrolled": true
   },
   "outputs": [
    {
     "name": "stdout",
     "output_type": "stream",
     "text": [
      "4.024252216359269\n",
      "Predicting...\n",
      "[[5. 5. 0. 5. 5.]\n",
      " [0. 0. 0. 5. 5.]\n",
      " [5. 5. 0. 0. 0.]\n",
      " [5. 0. 5. 0. 5.]\n",
      " [0. 5. 5. 5. 0.]]\n",
      "accurancy...\n",
      "100.0\n",
      "plot cost history...\n"
     ]
    },
    {
     "data": {
      "text/plain": [
       "[<matplotlib.lines.Line2D at 0x1e73897c588>]"
      ]
     },
     "execution_count": 24,
     "metadata": {},
     "output_type": "execute_result"
    },
    {
     "data": {
      "image/png": "[encoded data removed]",
      "text/plain": [
       "<Figure size 432x288 with 1 Axes>"
      ]
     },
     "metadata": {},
     "output_type": "display_data"
    }
   ],
   "source": [
    "#initial val\n",
    "initialCost = computCost(x, theta, a, lamda) \n",
    "print(initialCost)\n",
    "\n",
    "history = np.zeros((1, 1000000))\n",
    "i = 0;\n",
    "# Start Colab. filtering\n",
    "for k in range(0, swaps):\n",
    "    for  v in range(0, step):\n",
    "        Grad_x = np.matmul((np.matmul(x, np.transpose(theta)) - a), theta)\n",
    "        x = x - alpfa * Grad_x\n",
    "        history[0, i] = computCost(x, theta, a, lamda)\n",
    "        i += 1\n",
    "        #print(computCost(x, theta, a, lamda))\n",
    "    for  v in range(0, step):\n",
    "        Grad_theta = np.matmul(np.transpose((np.matmul(x, np.transpose(theta)) - a)), x)\n",
    "        theta = theta - alpfa * Grad_theta\n",
    "        history[0, i] = computCost(x, theta, a, lamda)\n",
    "        i += 1\n",
    "        #print(computCost(x, theta, a, lamda))\n",
    "        \n",
    "\n",
    "\n",
    "#predict\n",
    "print(\"Predicting...\")\n",
    "Pred = np.matmul(x, np.transpose(theta))\n",
    "Pred = np.abs(np.round(Pred, 1))\n",
    "\n",
    "print(Pred)\n",
    "#accurancy\n",
    "print('accurancy...')\n",
    "print(np.average(np.array_equal(Pred, a)) * 100)\n",
    "\n",
    "#checking\n",
    "print(\"plot cost history...\")\n",
    "plt.plot(range(0, i), history[0, range(0, i)])"
   ]
  }
 ],
 "metadata": {
  "kernelspec": {
   "display_name": "Python 3",
   "language": "python",
   "name": "python3"
  },
  "language_info": {
   "codemirror_mode": {
    "name": "ipython",
    "version": 3
   },
   "file_extension": ".py",
   "mimetype": "text/x-python",
   "name": "python",
   "nbconvert_exporter": "python",
   "pygments_lexer": "ipython3",
   "version": "3.6.4"
  }
 },
 "nbformat": 4,
 "nbformat_minor": 2
}
