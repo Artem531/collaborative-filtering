{
 "cells": [
  {
   "cell_type": "code",
   "execution_count": 54,
   "metadata": {},
   "outputs": [],
   "source": []
  },
  {
   "cell_type": "code",
   "execution_count": 1,
   "metadata": {},
   "outputs": [],
   "source": [
    "import numpy.random as rand\n",
    "import numpy as np\n",
    "import matplotlib.pyplot as plt"
   ]
  },
  {
   "cell_type": "code",
   "execution_count": 2,
   "metadata": {},
   "outputs": [],
   "source": [
    "def computCost(X, theta, y, lamda):\n",
    "    J = 0\n",
    "    m = np.size(y, 0) * np.size(y, 1)\n",
    "    J = np.sum( np.sum( ( np.matmul( X, np.transpose(theta) ) - y )**2 ) / (2 * m)) + lamda * np.sum(theta[:, -1:0:-1]) / (2 * m) + lamda * np.sum(X[:, -1:0:-1])  / (2 * m)  \n",
    "    return J"
   ]
  },
  {
   "cell_type": "code",
   "execution_count": 7,
   "metadata": {},
   "outputs": [
    {
     "name": "stdout",
     "output_type": "stream",
     "text": [
      "visualization of Data...\n",
      "[[5. 5. 0. 5. 5.]\n",
      " [0. 0. 0. 5. 5.]\n",
      " [5. 5. 0. 0. 0.]\n",
      " [5. 0. 5. 0. 5.]\n",
      " [0. 5. 5. 5. 0.]]\n",
      "visualization of parameters x...\n",
      "[[1.         0.53531094 0.68251083 0.02743695 0.01106885]\n",
      " [1.         0.03673483 0.49223336 0.32158759 0.95501217]\n",
      " [1.         0.9793359  0.18351985 0.78921039 0.38579862]\n",
      " [1.         0.21072254 0.82730582 0.51036304 0.12966096]\n",
      " [1.         0.65492939 0.82533606 0.19195036 0.10875077]]\n",
      "visualization of parameters theta...\n",
      "[[1.         0.40651833 0.4217751  0.16144896 0.96029975]\n",
      " [1.         0.30189644 0.82963611 0.83717236 0.83067475]\n",
      " [1.         0.34420246 0.84622407 0.14835771 0.15650577]\n",
      " [1.         0.71702353 0.92407293 0.47673329 0.53171078]\n",
      " [1.         0.37261419 0.46388292 0.14238477 0.31022606]]\n"
     ]
    }
   ],
   "source": [
    "print('visualization of Data...')\n",
    "a = np.array([[5.,5.,0.,5.,5.],[0.,0.,0.,5.,5.],[5.,5.,0.,0.,0.],[5.,0.,5.,0.,5.],[0.,5.,5.,5.,0.]]) # Training data\n",
    "print(a)\n",
    "\n",
    "#Gen fitures\n",
    "x = np.random.sample((4, 5))\n",
    "theta = np.random.sample((4, 5))\n",
    "x = np.vstack((np.ones((1, 5)), x))\n",
    "theta = np.vstack((np.ones((1, 5)), theta))\n",
    "\n",
    "x  = np.transpose(x)\n",
    "theta = np.transpose(theta)\n",
    "\n",
    "print('visualization of parameters x...')\n",
    "print (x)\n",
    "print('visualization of parameters theta...')\n",
    "print (theta)\n",
    "\n",
    "# useful parametrs\n",
    "lamda = 1\n",
    "alpfa = 0.01\n",
    "step = 100\n",
    "swaps = 10\n"
   ]
  },
  {
   "cell_type": "code",
   "execution_count": 8,
   "metadata": {
    "scrolled": true
   },
   "outputs": [
    {
     "name": "stdout",
     "output_type": "stream",
     "text": [
      "3.993476225731536\n",
      "Predicting...\n",
      "[[5. 5. 0. 5. 5.]\n",
      " [0. 0. 0. 5. 5.]\n",
      " [5. 5. 0. 0. 0.]\n",
      " [5. 0. 5. 0. 5.]\n",
      " [0. 5. 5. 5. 0.]]\n",
      "accurancy...\n",
      "100.0\n",
      "plot cost history...\n"
     ]
    },
    {
     "data": {
      "text/plain": [
       "[<matplotlib.lines.Line2D at 0x1eb9af90278>]"
      ]
     },
     "execution_count": 8,
     "metadata": {},
     "output_type": "execute_result"
    },
    {
     "data": {
      "image/png": "[encoded data removed]",
      "text/plain": [
       "<Figure size 432x288 with 1 Axes>"
      ]
     },
     "metadata": {},
     "output_type": "display_data"
    }
   ],
   "source": [
    "#initial val\n",
    "initialCost = computCost(x, theta, a, lamda) \n",
    "print(initialCost)\n",
    "\n",
    "history = np.zeros((1, 1000000))\n",
    "i = 0;\n",
    "# Start Colab. filtering\n",
    "for k in range(0, swaps):\n",
    "    for  v in range(0, step):\n",
    "        Grad_x = np.matmul((np.matmul(x, np.transpose(theta)) - a), theta)\n",
    "        x = x - alpfa * Grad_x\n",
    "        history[0, i] = computCost(x, theta, a, lamda)\n",
    "        i += 1\n",
    "        #print(computCost(x, theta, a, lamda))\n",
    "    for  v in range(0, step):\n",
    "        Grad_theta = np.matmul(np.transpose((np.matmul(x, np.transpose(theta)) - a)), x)\n",
    "        theta = theta - alpfa * Grad_theta\n",
    "        history[0, i] = computCost(x, theta, a, lamda)\n",
    "        i += 1\n",
    "        #print(computCost(x, theta, a, lamda))\n",
    "        \n",
    "\n",
    "\n",
    "#predict\n",
    "print(\"Predicting...\")\n",
    "Pred = np.matmul(x, np.transpose(theta))\n",
    "Pred = np.abs(np.round(Pred, 1))\n",
    "\n",
    "print(Pred)\n",
    "#accurancy\n",
    "print('accurancy...')\n",
    "print(np.average(np.array_equal(Pred, a)) * 100)\n",
    "\n",
    "#checking\n",
    "print(\"plot cost history...\")\n",
    "plt.plot(range(0, i), history[0, range(0, i)])"
   ]
  },
  {
   "cell_type": "code",
   "execution_count": null,
   "metadata": {},
   "outputs": [],
   "source": []
  }
 ],
 "metadata": {
  "kernelspec": {
   "display_name": "Python 3",
   "language": "python",
   "name": "python3"
  },
  "language_info": {
   "codemirror_mode": {
    "name": "ipython",
    "version": 3
   },
   "file_extension": ".py",
   "mimetype": "text/x-python",
   "name": "python",
   "nbconvert_exporter": "python",
   "pygments_lexer": "ipython3",
   "version": "3.6.4"
  }
 },
 "nbformat": 4,
 "nbformat_minor": 2
}
