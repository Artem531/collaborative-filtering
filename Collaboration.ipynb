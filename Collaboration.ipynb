{
 "cells": [
  {
   "cell_type": "code",
   "execution_count": 54,
   "metadata": {},
   "outputs": [],
   "source": [
    "import numpy.random as rand\n",
    "import numpy as np\n",
    "import matplotlib.pyplot as plt"
   ]
  },
  {
   "cell_type": "code",
   "execution_count": 55,
   "metadata": {},
   "outputs": [],
   "source": [
    "def computCost(X, theta, y, lamda):\n",
    "    J = 0\n",
    "    J = np.sum( np.sum( ( np.matmul( X, np.transpose(theta) ) - y )**2 ) / 2)\n",
    "    return J\n",
    "\n"
   ]
  },
  {
   "cell_type": "code",
   "execution_count": 56,
   "metadata": {},
   "outputs": [
    {
     "name": "stdout",
     "output_type": "stream",
     "text": [
      "visualization of Data...\n",
      "[[5. 5. 0. 5. 5.]\n",
      " [0. 0. 0. 5. 5.]\n",
      " [5. 5. 0. 0. 0.]\n",
      " [5. 0. 5. 0. 5.]\n",
      " [0. 5. 5. 5. 0.]]\n",
      "visualization of parameters x...\n",
      "[[1.         0.17050488 0.56521225 0.06164255 0.5017186 ]\n",
      " [1.         0.85307661 0.18930648 0.28671786 0.96323877]\n",
      " [1.         0.28809784 0.64763846 0.60362697 0.25817474]\n",
      " [1.         0.18041112 0.29206268 0.23422159 0.42534431]\n",
      " [1.         0.40457758 0.8693144  0.62452198 0.22438751]]\n",
      "visualization of parameters theta...\n",
      "[[1.         0.58149063 0.33380206 0.79341    0.26820955]\n",
      " [1.         0.70137378 0.93204028 0.46816201 0.55225868]\n",
      " [1.         0.01013884 0.30860481 0.12476712 0.02641982]\n",
      " [1.         0.04826934 0.7906123  0.11221543 0.77296566]\n",
      " [1.         0.11574573 0.75654419 0.56814343 0.82830223]]\n"
     ]
    }
   ],
   "source": [
    "print('visualization of Data...')\n",
    "a = np.array([[5.,5.,0.,5.,5.],[0.,0.,0.,5.,5.],[5.,5.,0.,0.,0.],[5.,0.,5.,0.,5.],[0.,5.,5.,5.,0.]]) # Training data\n",
    "print(a)\n",
    "\n",
    "#Gen fitures\n",
    "x = np.random.sample((4, 5))\n",
    "theta = np.random.sample((4, 5))\n",
    "x = np.vstack((np.ones((1, 5)), x))\n",
    "theta = np.vstack((np.ones((1, 5)), theta))\n",
    "\n",
    "x  = np.transpose(x)\n",
    "theta = np.transpose(theta)\n",
    "\n",
    "print('visualization of parameters x...')\n",
    "print (x)\n",
    "print('visualization of parameters theta...')\n",
    "print (theta)\n",
    "\n",
    "# useful parametrs\n",
    "lamda = 0\n",
    "alpfa = 0.01\n",
    "step = 100\n",
    "swaps = 10\n"
   ]
  },
  {
   "cell_type": "code",
   "execution_count": 57,
   "metadata": {
    "scrolled": true
   },
   "outputs": [
    {
     "name": "stdout",
     "output_type": "stream",
     "text": [
      "89.53095335764527\n",
      "Predicting...\n",
      "[[5. 5. 0. 5. 5.]\n",
      " [0. 0. 0. 5. 5.]\n",
      " [5. 5. 0. 0. 0.]\n",
      " [5. 0. 5. 0. 5.]\n",
      " [0. 5. 5. 5. 0.]]\n",
      "accurancy...\n",
      "100.0\n",
      "plot cost history...\n"
     ]
    },
    {
     "data": {
      "text/plain": [
       "[<matplotlib.lines.Line2D at 0x266de957278>]"
      ]
     },
     "execution_count": 57,
     "metadata": {},
     "output_type": "execute_result"
    },
    {
     "data": {
      "image/png": "[encoded data removed]",
      "text/plain": [
       "<Figure size 432x288 with 1 Axes>"
      ]
     },
     "metadata": {},
     "output_type": "display_data"
    }
   ],
   "source": [
    "#initial val\n",
    "initialCost = computCost(x, theta, a, lamda) \n",
    "print(initialCost)\n",
    "\n",
    "history = np.zeros((1, 1000000))\n",
    "i = 0;\n",
    "# Start Colab. filtering\n",
    "for k in range(0, swaps):\n",
    "    for  v in range(0, step):\n",
    "        Grad_x = np.matmul((np.matmul(x, np.transpose(theta)) - a), theta)\n",
    "        x = x - alpfa * Grad_x\n",
    "        history[0, i] = computCost(x, theta, a, lamda)\n",
    "        i += 1\n",
    "        #print(computCost(x, theta, a, lamda))\n",
    "    for  v in range(0, step):\n",
    "        Grad_theta = np.matmul(np.transpose((np.matmul(x, np.transpose(theta)) - a)), x)\n",
    "        theta = theta - alpfa * Grad_theta\n",
    "        history[0, i] = computCost(x, theta, a, lamda)\n",
    "        i += 1\n",
    "        #print(computCost(x, theta, a, lamda))\n",
    "        \n",
    "\n",
    "\n",
    "#predict\n",
    "print(\"Predicting...\")\n",
    "Pred = np.matmul(x, np.transpose(theta))\n",
    "Pred = np.abs(np.round(Pred, 1))\n",
    "\n",
    "print(Pred)\n",
    "#accurancy\n",
    "print('accurancy...')\n",
    "print(np.average(np.array_equal(Pred, a)) * 100)\n",
    "\n",
    "#checking\n",
    "print(\"plot cost history...\")\n",
    "plt.plot(range(0, i), history[0, range(0, i)])"
   ]
  },
  {
   "cell_type": "code",
   "execution_count": null,
   "metadata": {},
   "outputs": [],
   "source": []
  },
  {
   "cell_type": "code",
   "execution_count": null,
   "metadata": {},
   "outputs": [],
   "source": []
  },
  {
   "cell_type": "code",
   "execution_count": null,
   "metadata": {},
   "outputs": [],
   "source": []
  }
 ],
 "metadata": {
  "kernelspec": {
   "display_name": "Python 3",
   "language": "python",
   "name": "python3"
  },
  "language_info": {
   "codemirror_mode": {
    "name": "ipython",
    "version": 3
   },
   "file_extension": ".py",
   "mimetype": "text/x-python",
   "name": "python",
   "nbconvert_exporter": "python",
   "pygments_lexer": "ipython3",
   "version": "3.6.4"
  }
 },
 "nbformat": 4,
 "nbformat_minor": 2
}
